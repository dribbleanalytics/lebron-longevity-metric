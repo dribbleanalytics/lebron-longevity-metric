{
 "cells": [
  {
   "cell_type": "code",
   "execution_count": null,
   "metadata": {},
   "outputs": [],
   "source": [
    "# import packages\n",
    "import pandas as pd\n",
    "import numpy as np\n",
    "import torch\n",
    "from torch.utils.data import TensorDataset, DataLoader, SubsetRandomSampler\n",
    "from model import RNNModel\n",
    "import torch.nn as nn\n",
    "import torch.optim as optim\n",
    "from train import train\n",
    "from itertools import product\n",
    "import matplotlib.pyplot as plt\n",
    "import seaborn as sns"
   ]
  },
  {
   "cell_type": "code",
   "execution_count": null,
   "metadata": {},
   "outputs": [],
   "source": [
    "# read csv\n",
    "df = pd.read_csv('results/all_nba_preds.csv', index_col=0)"
   ]
  },
  {
   "cell_type": "code",
   "execution_count": null,
   "metadata": {},
   "outputs": [],
   "source": [
    "# define min and max career len, pad player careers to max len\n",
    "max_len = df.groupby(['player_id'], sort=False)['player_season'].count().max()\n",
    "min_len = 4\n",
    "input_list, target_list = [], []\n",
    "\n",
    "for i in range(len(df['player_id'].unique())):\n",
    "    if len(df[df['player_id']==i]) < min_len:\n",
    "        continue\n",
    "    else:\n",
    "        curr_pred = df[df['player_id']==i]['pred_all_nba'].values\n",
    "        padded_input = np.pad(curr_pred, (0, max_len - len(curr_pred)), 'constant')\n",
    "        padded_target = np.pad(curr_pred[1:], (0, max_len - len(curr_pred) + 1), 'constant')\n",
    "        input_list.append(padded_input), target_list.append(padded_target)\n",
    "        \n",
    "input_tensor = torch.Tensor(input_list)\n",
    "target_tensor = torch.Tensor(target_list)"
   ]
  },
  {
   "cell_type": "code",
   "execution_count": null,
   "metadata": {},
   "outputs": [],
   "source": [
    "# function to randomly select which players to use as train, valid, and test\n",
    "def split_indices(train_perc=0.6, valid_perc=0.2):\n",
    "    perm = np.random.RandomState(seed=0).permutation(len(input_tensor))\n",
    "    n = len(perm)\n",
    "    train_end = int(train_perc * n)\n",
    "    valid_end = int((train_perc + valid_perc) * n)\n",
    "    train_ind = perm[:train_end]\n",
    "    valid_ind = perm[train_end:valid_end]\n",
    "    test_ind = perm[valid_end:]\n",
    "    \n",
    "    return train_ind, valid_ind, test_ind"
   ]
  },
  {
   "cell_type": "code",
   "execution_count": null,
   "metadata": {},
   "outputs": [],
   "source": [
    "# convert inputs and targets to torch-readable format\n",
    "full_data = TensorDataset(input_tensor, target_tensor)\n",
    "\n",
    "train_ind, valid_ind, test_ind = split_indices()\n",
    "\n",
    "train_loader = DataLoader(full_data, batch_size=4, sampler=SubsetRandomSampler(train_ind))\n",
    "valid_loader = DataLoader(full_data, batch_size=4, sampler=SubsetRandomSampler(valid_ind))\n",
    "test_loader = DataLoader(full_data, batch_size=4, sampler=SubsetRandomSampler(test_ind))"
   ]
  },
  {
   "cell_type": "code",
   "execution_count": null,
   "metadata": {},
   "outputs": [],
   "source": [
    "# define and train model\n",
    "model = RNNModel(hidden_dim=50, rnn_type='LSTM', bidir=False,\n",
    "                 checkpoint_name='checkpoints/lstm_d5_n2.pt', dropout=0.5, num_layers=2)\n",
    "\n",
    "criterion = nn.MSELoss(reduction='sum')\n",
    "optimizer = optim.Adam(model.parameters())\n",
    "\n",
    "train(model, train_loader, valid_loader, test_loader, optimizer, criterion, n_epochs=50, short_train=False,\n",
    "      checkpoint_name=model.checkpoint_name, patience=5)"
   ]
  },
  {
   "cell_type": "code",
   "execution_count": null,
   "metadata": {},
   "outputs": [],
   "source": [
    "# function that predicts a player's entire career arc using the trained model\n",
    "def pred_player(player_name):\n",
    "    player_progr = df[df['player']==player_name]['pred_all_nba'].values\n",
    "    start_len = len(player_progr)\n",
    "    \n",
    "    while(len(player_progr) < max_len):\n",
    "        player_tens = torch.Tensor(player_progr).unsqueeze(0)\n",
    "        hidden = model.initHidden(1)\n",
    "        output, hidden = model(player_tens, hidden)\n",
    "        player_progr = np.concatenate((player_progr, np.array([output[-1].item()])))\n",
    "        \n",
    "    remaining_all_nba = np.sum(player_progr[start_len:])\n",
    "    return player_progr, start_len, remaining_all_nba"
   ]
  },
  {
   "cell_type": "code",
   "execution_count": null,
   "metadata": {},
   "outputs": [],
   "source": [
    "# predict career arc for all players above minimum length\n",
    "min_len_df = df.groupby(\"player_id\").filter(lambda x: len(x) >= 4)\n",
    "all_players = min_len_df[min_len_df['season_start']==2018]['player'].values\n",
    "remaining_pred, curr_year, full_prog = [], [], []\n",
    "\n",
    "for i in all_players:\n",
    "    history, start_len, total = pred_player(i)\n",
    "    full_prog.append(history)\n",
    "    curr_year.append(start_len)\n",
    "    remaining_pred.append(total)"
   ]
  },
  {
   "cell_type": "code",
   "execution_count": null,
   "metadata": {},
   "outputs": [],
   "source": [
    "# convert predictions to csv\n",
    "df_annual = pd.DataFrame(full_prog, columns=['year_%s' %i for i in range(1, 22)])\n",
    "df_pred = pd.DataFrame(zip(all_players, curr_year, remaining_pred),\n",
    "                       columns=['player', 'current_year', 'remaining_all_nba'])\n",
    "full_df = df_pred.join(df_annual)"
   ]
  },
  {
   "cell_type": "code",
   "execution_count": null,
   "metadata": {},
   "outputs": [],
   "source": [
    "full_df.to_csv('results/full_predictions.csv', index=False)"
   ]
  },
  {
   "cell_type": "markdown",
   "metadata": {},
   "source": [
    "# Visualization function"
   ]
  },
  {
   "cell_type": "code",
   "execution_count": null,
   "metadata": {},
   "outputs": [],
   "source": [
    "df = pd.read_csv('results/full_predictions.csv')"
   ]
  },
  {
   "cell_type": "code",
   "execution_count": null,
   "metadata": {},
   "outputs": [],
   "source": [
    "# function to help visualize any player's career arc\n",
    "def plot_player(player_name):\n",
    "    plt.style.use('fivethirtyeight')\n",
    "    player_vals = df[df['player']==player_name].values[0, 1:].astype(float)\n",
    "    player_hist = player_vals[2:]\n",
    "    player_year = int(player_vals[0])\n",
    "    player_total = player_vals[1]\n",
    "\n",
    "    fig, ax = plt.subplots()\n",
    "\n",
    "    sns.lineplot(x=range(1, player_year + 1), y=player_hist[:player_year], ax=ax, label=\"Historical\")\n",
    "    sns.lineplot(x=range(player_year, 22), y=player_hist[player_year - 1:], ax=ax, label=\"Projected\")\n",
    "    ax.axvline(x=player_year, color='black', linestyle='--')\n",
    "\n",
    "    fig.suptitle(f\"LEBRON projection for {player_name}\", weight='bold', size=18, y=1.02)\n",
    "    ax.set_title(f\"Remaining All-NBA probability: {player_total:.2f}\", size=14, fontname=\"Rockwell\")\n",
    "\n",
    "    ax.set_xlabel(\"Year #\")\n",
    "    ax.set_ylabel(\"P(All-NBA)\")\n",
    "    \n",
    "    plt.setp(ax.get_legend().get_texts(), fontname='Rockwell')\n",
    "\n",
    "    fig.text(x = -0.02, y = -0.08,\n",
    "        s = '___________________________________________________________',\n",
    "        fontsize = 14, color = 'grey', horizontalalignment='left', alpha = .3)\n",
    "\n",
    "    fig.text(x = -0.02, y = -.14,\n",
    "        s = 'https://dribbleanalytics.blog                     ',\n",
    "        fontsize = 14, fontname = 'Rockwell', color = 'dimgrey', horizontalalignment='left')\n",
    "    \n",
    "    fname = player_name.lower().replace(\" \", \"_\")\n",
    "    fig.savefig(f'graphs/{fname}.png', dpi = 400, bbox_inches = 'tight')"
   ]
  },
  {
   "cell_type": "code",
   "execution_count": null,
   "metadata": {},
   "outputs": [],
   "source": [
    "plot_player('LeBron James')"
   ]
  }
 ],
 "metadata": {
  "kernelspec": {
   "display_name": "Python 3",
   "language": "python",
   "name": "python3"
  },
  "language_info": {
   "codemirror_mode": {
    "name": "ipython",
    "version": 3
   },
   "file_extension": ".py",
   "mimetype": "text/x-python",
   "name": "python",
   "nbconvert_exporter": "python",
   "pygments_lexer": "ipython3",
   "version": "3.6.4"
  }
 },
 "nbformat": 4,
 "nbformat_minor": 2
}
